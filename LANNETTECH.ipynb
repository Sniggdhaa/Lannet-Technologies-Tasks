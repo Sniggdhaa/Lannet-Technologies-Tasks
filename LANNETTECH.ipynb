{
  "nbformat": 4,
  "nbformat_minor": 0,
  "metadata": {
    "colab": {
      "name": "LANNETTECH.ipynb",
      "provenance": []
    },
    "kernelspec": {
      "name": "python3",
      "display_name": "Python 3"
    }
  },
  "cells": [
    {
      "cell_type": "code",
      "metadata": {
        "id": "Y9sNGN82Marx",
        "colab_type": "code",
        "colab": {}
      },
      "source": [
        "import numpy as np \n",
        "import pandas as pd # data processing, CSV file I/O (e.g. pd.read_csv)\n",
        "import re\n",
        "import datetime\n",
        "from datetime import date"
      ],
      "execution_count": 153,
      "outputs": []
    },
    {
      "cell_type": "markdown",
      "metadata": {
        "id": "AnRwPWYhonTq",
        "colab_type": "text"
      },
      "source": [
        "**TASK 1:**\n",
        "Write a function in python that inputs a dataframe and identify which columns have date in them. Using these date columns make new columns which are difference between these columns taking 2 at a time (for instance if there is date1, date2, date3 columns, output should be like date1-date2, date2-date3, date1-date3)"
      ]
    },
    {
      "cell_type": "code",
      "metadata": {
        "id": "4VuGoirNNjnJ",
        "colab_type": "code",
        "colab": {}
      },
      "source": [
        "# Read data\n",
        "data= pd.read_csv('/date_data.csv', index_col =0, parse_dates=['DATE1'])"
      ],
      "execution_count": 154,
      "outputs": []
    },
    {
      "cell_type": "markdown",
      "metadata": {
        "id": "1FVm-_6Ydk7i",
        "colab_type": "text"
      },
      "source": [
        "Visualize the columns for the type and format of data they hold."
      ]
    },
    {
      "cell_type": "code",
      "metadata": {
        "id": "uBLpQJHqNkCc",
        "colab_type": "code",
        "colab": {
          "base_uri": "https://localhost:8080/",
          "height": 419
        },
        "outputId": "e2c47198-5205-4c15-88b1-a4280b81f349"
      },
      "source": [
        "data"
      ],
      "execution_count": 155,
      "outputs": [
        {
          "output_type": "execute_result",
          "data": {
            "text/html": [
              "<div>\n",
              "<style scoped>\n",
              "    .dataframe tbody tr th:only-of-type {\n",
              "        vertical-align: middle;\n",
              "    }\n",
              "\n",
              "    .dataframe tbody tr th {\n",
              "        vertical-align: top;\n",
              "    }\n",
              "\n",
              "    .dataframe thead th {\n",
              "        text-align: right;\n",
              "    }\n",
              "</style>\n",
              "<table border=\"1\" class=\"dataframe\">\n",
              "  <thead>\n",
              "    <tr style=\"text-align: right;\">\n",
              "      <th></th>\n",
              "      <th>DATE1</th>\n",
              "      <th>DATE2</th>\n",
              "      <th>TIME</th>\n",
              "      <th>DATE3</th>\n",
              "      <th>NUMBER</th>\n",
              "      <th>DATE4</th>\n",
              "      <th>DATE5</th>\n",
              "    </tr>\n",
              "  </thead>\n",
              "  <tbody>\n",
              "    <tr>\n",
              "      <th>0</th>\n",
              "      <td>29-06-19</td>\n",
              "      <td>Monday, July 2, 2018</td>\n",
              "      <td>12:00:00 AM</td>\n",
              "      <td>30-Jun-19</td>\n",
              "      <td>43646</td>\n",
              "      <td>01-Jul-18</td>\n",
              "      <td>43282.0</td>\n",
              "    </tr>\n",
              "    <tr>\n",
              "      <th>1</th>\n",
              "      <td>29-05-19</td>\n",
              "      <td>Thursday, August 32, 2018</td>\n",
              "      <td>12:00:00 AM</td>\n",
              "      <td>29-Jun-19</td>\n",
              "      <td>43645</td>\n",
              "      <td>02-Jul-18</td>\n",
              "      <td>43283.0</td>\n",
              "    </tr>\n",
              "    <tr>\n",
              "      <th>2</th>\n",
              "      <td>28-04-19</td>\n",
              "      <td>Sunday, September 2, 2018</td>\n",
              "      <td>12:00:00 AM</td>\n",
              "      <td>28-Jun-19</td>\n",
              "      <td>43644</td>\n",
              "      <td>03-Jul-18</td>\n",
              "      <td>43284.0</td>\n",
              "    </tr>\n",
              "    <tr>\n",
              "      <th>3</th>\n",
              "      <td>29-03-19</td>\n",
              "      <td>Tuesday, October 2, 2018</td>\n",
              "      <td>12:00:00 AM</td>\n",
              "      <td>27-Jun-19</td>\n",
              "      <td>43643</td>\n",
              "      <td>04-Jul-18</td>\n",
              "      <td>43285.0</td>\n",
              "    </tr>\n",
              "    <tr>\n",
              "      <th>4</th>\n",
              "      <td>26-02-19</td>\n",
              "      <td>Friday, November 2, 2018</td>\n",
              "      <td>12:00:00 AM</td>\n",
              "      <td>26-Jun-19</td>\n",
              "      <td>43642</td>\n",
              "      <td>05-Jul-18</td>\n",
              "      <td>43286.0</td>\n",
              "    </tr>\n",
              "    <tr>\n",
              "      <th>...</th>\n",
              "      <td>...</td>\n",
              "      <td>...</td>\n",
              "      <td>...</td>\n",
              "      <td>...</td>\n",
              "      <td>...</td>\n",
              "      <td>...</td>\n",
              "      <td>...</td>\n",
              "    </tr>\n",
              "    <tr>\n",
              "      <th>359</th>\n",
              "      <td>28-02-19</td>\n",
              "      <td>Wednesday, October 31, 2018</td>\n",
              "      <td>12:00:00 AM</td>\n",
              "      <td>05-Jul-18</td>\n",
              "      <td>43286</td>\n",
              "      <td>26-Jun-19</td>\n",
              "      <td>43642.0</td>\n",
              "    </tr>\n",
              "    <tr>\n",
              "      <th>360</th>\n",
              "      <td>30-12-18</td>\n",
              "      <td>Monday, Desember 31, 2018</td>\n",
              "      <td>12:00:00 AM</td>\n",
              "      <td>04-Jul-18</td>\n",
              "      <td>43285</td>\n",
              "      <td>27-Jun-19</td>\n",
              "      <td>43643.0</td>\n",
              "    </tr>\n",
              "    <tr>\n",
              "      <th>361</th>\n",
              "      <td>28-11-18</td>\n",
              "      <td>Thursday, January 31, 2019</td>\n",
              "      <td>12:00:00 AM</td>\n",
              "      <td>03-Jul-18</td>\n",
              "      <td>43284</td>\n",
              "      <td>28-Jun-19</td>\n",
              "      <td>43644.0</td>\n",
              "    </tr>\n",
              "    <tr>\n",
              "      <th>362</th>\n",
              "      <td>30-09-18</td>\n",
              "      <td>Sunday, March 31, 2019</td>\n",
              "      <td>12:00:00 AM</td>\n",
              "      <td>02-Jul-18</td>\n",
              "      <td>43283</td>\n",
              "      <td>29-Jun-19</td>\n",
              "      <td>43645.0</td>\n",
              "    </tr>\n",
              "    <tr>\n",
              "      <th>363</th>\n",
              "      <td>31-07-18</td>\n",
              "      <td>Friday, May 31, 2019</td>\n",
              "      <td>12:00:00 AM</td>\n",
              "      <td>01-Jul-18</td>\n",
              "      <td>43282</td>\n",
              "      <td>30-Jun-19</td>\n",
              "      <td>43646.0</td>\n",
              "    </tr>\n",
              "  </tbody>\n",
              "</table>\n",
              "<p>364 rows × 7 columns</p>\n",
              "</div>"
            ],
            "text/plain": [
              "        DATE1                        DATE2  ...      DATE4    DATE5\n",
              "0    29-06-19         Monday, July 2, 2018  ...  01-Jul-18  43282.0\n",
              "1    29-05-19    Thursday, August 32, 2018  ...  02-Jul-18  43283.0\n",
              "2    28-04-19    Sunday, September 2, 2018  ...  03-Jul-18  43284.0\n",
              "3    29-03-19     Tuesday, October 2, 2018  ...  04-Jul-18  43285.0\n",
              "4    26-02-19     Friday, November 2, 2018  ...  05-Jul-18  43286.0\n",
              "..        ...                          ...  ...        ...      ...\n",
              "359  28-02-19  Wednesday, October 31, 2018  ...  26-Jun-19  43642.0\n",
              "360  30-12-18    Monday, Desember 31, 2018  ...  27-Jun-19  43643.0\n",
              "361  28-11-18   Thursday, January 31, 2019  ...  28-Jun-19  43644.0\n",
              "362  30-09-18       Sunday, March 31, 2019  ...  29-Jun-19  43645.0\n",
              "363  31-07-18         Friday, May 31, 2019  ...  30-Jun-19  43646.0\n",
              "\n",
              "[364 rows x 7 columns]"
            ]
          },
          "metadata": {
            "tags": []
          },
          "execution_count": 155
        }
      ]
    },
    {
      "cell_type": "code",
      "metadata": {
        "id": "CuShIirCNklv",
        "colab_type": "code",
        "colab": {
          "base_uri": "https://localhost:8080/",
          "height": 34
        },
        "outputId": "b7da4ecf-645f-408e-d308-dd13fc81c171"
      },
      "source": [
        "# Check for nulls\n",
        "data.isnull().sum().sum()"
      ],
      "execution_count": 156,
      "outputs": [
        {
          "output_type": "execute_result",
          "data": {
            "text/plain": [
              "0"
            ]
          },
          "metadata": {
            "tags": []
          },
          "execution_count": 156
        }
      ]
    },
    {
      "cell_type": "markdown",
      "metadata": {
        "id": "shxpoG0fd5m_",
        "colab_type": "text"
      },
      "source": [
        "There are 5 data columns in different formats.\n",
        "Starting with **DATE1**:"
      ]
    },
    {
      "cell_type": "code",
      "metadata": {
        "id": "55sUTA8rNj_i",
        "colab_type": "code",
        "colab": {
          "base_uri": "https://localhost:8080/",
          "height": 34
        },
        "outputId": "42a60ff3-e709-4cd5-c63e-26580e018cdd"
      },
      "source": [
        "data.DATE1.dtype"
      ],
      "execution_count": 157,
      "outputs": [
        {
          "output_type": "execute_result",
          "data": {
            "text/plain": [
              "dtype('O')"
            ]
          },
          "metadata": {
            "tags": []
          },
          "execution_count": 157
        }
      ]
    },
    {
      "cell_type": "code",
      "metadata": {
        "id": "qZ1BYeVdaTyn",
        "colab_type": "code",
        "colab": {
          "base_uri": "https://localhost:8080/",
          "height": 85
        },
        "outputId": "9a4e8eb3-2a68-440c-c452-bf86dbc7a582"
      },
      "source": [
        "# Check for invalid dates, if any\n",
        "data['DATE1'].map(lambda x: x.split('-')[0]).sort_values().unique()"
      ],
      "execution_count": 158,
      "outputs": [
        {
          "output_type": "execute_result",
          "data": {
            "text/plain": [
              "array(['01', '02', '03', '04', '05', '06', '07', '08', '09', '10', '11',\n",
              "       '12', '13', '14', '15', '16', '17', '18', '19', '20', '21', '22',\n",
              "       '23', '24', '25', '26', '27', '28', '29', '30', '31', '32', '33',\n",
              "       '39'], dtype=object)"
            ]
          },
          "metadata": {
            "tags": []
          },
          "execution_count": 158
        }
      ]
    },
    {
      "cell_type": "code",
      "metadata": {
        "id": "Bs62QW0OaYFk",
        "colab_type": "code",
        "colab": {
          "base_uri": "https://localhost:8080/",
          "height": 51
        },
        "outputId": "0913a8af-e348-4350-8085-2ddeda2de18c"
      },
      "source": [
        "# Check for invalid months, if any\n",
        "data['DATE1'].map(lambda x: x.split('-')[1]).sort_values().unique()"
      ],
      "execution_count": 159,
      "outputs": [
        {
          "output_type": "execute_result",
          "data": {
            "text/plain": [
              "array(['01', '02', '03', '04', '05', '06', '07', '08', '09', '10', '11',\n",
              "       '12', '14', '16', '21'], dtype=object)"
            ]
          },
          "metadata": {
            "tags": []
          },
          "execution_count": 159
        }
      ]
    },
    {
      "cell_type": "code",
      "metadata": {
        "id": "a5sScJcfaaNg",
        "colab_type": "code",
        "colab": {
          "base_uri": "https://localhost:8080/",
          "height": 34
        },
        "outputId": "7a1b3ba6-0129-4897-c3ea-ea5a50a268c1"
      },
      "source": [
        "# Check for invalid year, if any\n",
        "data['DATE1'].map(lambda x: x.split('-')[2]).sort_values().unique()"
      ],
      "execution_count": 160,
      "outputs": [
        {
          "output_type": "execute_result",
          "data": {
            "text/plain": [
              "array(['18', '19', '2018', '2019'], dtype=object)"
            ]
          },
          "metadata": {
            "tags": []
          },
          "execution_count": 160
        }
      ]
    },
    {
      "cell_type": "markdown",
      "metadata": {
        "id": "7bYcek5Ceest",
        "colab_type": "text"
      },
      "source": [
        "To retain maximum data, following assumptions are made:\n",
        "\n",
        "\n",
        "1.   Any day above 31 is a typo and will be replaced by 30 ( Last day of the month; not all months have 31, but all have 30 )\n",
        "2.   Any month above 12 is a typo and will be replaced by 12 ( Last month of the year )\n",
        "\n"
      ]
    },
    {
      "cell_type": "code",
      "metadata": {
        "id": "jUJnus8eVoU1",
        "colab_type": "code",
        "colab": {}
      },
      "source": [
        "# Replacing all invalid days with 30\n",
        "for x in filter(lambda w: w > 31 , data['DATE1'].map(lambda x: int(x.split('-')[0] ))):\n",
        "      data['DATE1'].replace(to_replace = str(x), value = '30', regex = True, inplace = True) "
      ],
      "execution_count": 161,
      "outputs": []
    },
    {
      "cell_type": "code",
      "metadata": {
        "id": "yIfFKUdWVoP6",
        "colab_type": "code",
        "colab": {
          "base_uri": "https://localhost:8080/",
          "height": 51
        },
        "outputId": "03ba2199-94fb-4d5d-a0f2-aa9dbc0dfade"
      },
      "source": [
        "data['DATE1'].map(lambda x: int(x.split('-')[0] )).sort_values().unique()"
      ],
      "execution_count": 162,
      "outputs": [
        {
          "output_type": "execute_result",
          "data": {
            "text/plain": [
              "array([ 1,  2,  3,  4,  5,  6,  7,  8,  9, 10, 11, 12, 13, 14, 15, 16, 17,\n",
              "       18, 19, 20, 21, 22, 23, 24, 25, 26, 27, 28, 29, 30, 31])"
            ]
          },
          "metadata": {
            "tags": []
          },
          "execution_count": 162
        }
      ]
    },
    {
      "cell_type": "code",
      "metadata": {
        "id": "ko9iReN5VoKO",
        "colab_type": "code",
        "colab": {}
      },
      "source": [
        "# Replacing all invalid months with 12\n",
        "for x in filter(lambda w: w > 12 , data['DATE1'].map(lambda x: int(x.split('-')[1] ))):\n",
        "      data['DATE1'].replace(to_replace = str(x), value = '12', regex = True , inplace = True) "
      ],
      "execution_count": 163,
      "outputs": []
    },
    {
      "cell_type": "code",
      "metadata": {
        "id": "6PP1PRS4Yvzm",
        "colab_type": "code",
        "colab": {
          "base_uri": "https://localhost:8080/",
          "height": 34
        },
        "outputId": "2dd369a2-9829-447c-f6f4-52dbd54d3e61"
      },
      "source": [
        "data['DATE1'].map(lambda x: int(x.split('-')[1] )).sort_values().unique()"
      ],
      "execution_count": 164,
      "outputs": [
        {
          "output_type": "execute_result",
          "data": {
            "text/plain": [
              "array([ 1,  2,  3,  4,  5,  6,  7,  8,  9, 10, 11, 12])"
            ]
          },
          "metadata": {
            "tags": []
          },
          "execution_count": 164
        }
      ]
    },
    {
      "cell_type": "markdown",
      "metadata": {
        "id": "DGfj1R6efnIk",
        "colab_type": "text"
      },
      "source": [
        "Converting the dates to datetime:\n",
        "\n",
        "\n",
        "> Using **infer_datetime_format** because we have two different formats of the date, ie, date-month-18/19 and date-month-2018/2019\n"
      ]
    },
    {
      "cell_type": "code",
      "metadata": {
        "id": "-l0v4xcUVoCd",
        "colab_type": "code",
        "colab": {}
      },
      "source": [
        "data['DATE1'] = pd.to_datetime(data['DATE1'], infer_datetime_format = True, dayfirst=True)"
      ],
      "execution_count": 165,
      "outputs": []
    },
    {
      "cell_type": "code",
      "metadata": {
        "id": "_3rZTf4k5vxT",
        "colab_type": "code",
        "colab": {
          "base_uri": "https://localhost:8080/",
          "height": 34
        },
        "outputId": "ff2b233c-4df2-4feb-f771-f25382a13a1f"
      },
      "source": [
        "# Check datatype of DATE1\n",
        "data.DATE1.dtype"
      ],
      "execution_count": 166,
      "outputs": [
        {
          "output_type": "execute_result",
          "data": {
            "text/plain": [
              "dtype('<M8[ns]')"
            ]
          },
          "metadata": {
            "tags": []
          },
          "execution_count": 166
        }
      ]
    },
    {
      "cell_type": "code",
      "metadata": {
        "id": "KKo7IHtqVn3t",
        "colab_type": "code",
        "colab": {
          "base_uri": "https://localhost:8080/",
          "height": 204
        },
        "outputId": "dfb69ce2-6fb7-4d93-c14d-e8f612868190"
      },
      "source": [
        "data.head()"
      ],
      "execution_count": 167,
      "outputs": [
        {
          "output_type": "execute_result",
          "data": {
            "text/html": [
              "<div>\n",
              "<style scoped>\n",
              "    .dataframe tbody tr th:only-of-type {\n",
              "        vertical-align: middle;\n",
              "    }\n",
              "\n",
              "    .dataframe tbody tr th {\n",
              "        vertical-align: top;\n",
              "    }\n",
              "\n",
              "    .dataframe thead th {\n",
              "        text-align: right;\n",
              "    }\n",
              "</style>\n",
              "<table border=\"1\" class=\"dataframe\">\n",
              "  <thead>\n",
              "    <tr style=\"text-align: right;\">\n",
              "      <th></th>\n",
              "      <th>DATE1</th>\n",
              "      <th>DATE2</th>\n",
              "      <th>TIME</th>\n",
              "      <th>DATE3</th>\n",
              "      <th>NUMBER</th>\n",
              "      <th>DATE4</th>\n",
              "      <th>DATE5</th>\n",
              "    </tr>\n",
              "  </thead>\n",
              "  <tbody>\n",
              "    <tr>\n",
              "      <th>0</th>\n",
              "      <td>2019-06-29</td>\n",
              "      <td>Monday, July 2, 2018</td>\n",
              "      <td>12:00:00 AM</td>\n",
              "      <td>30-Jun-19</td>\n",
              "      <td>43646</td>\n",
              "      <td>01-Jul-18</td>\n",
              "      <td>43282.0</td>\n",
              "    </tr>\n",
              "    <tr>\n",
              "      <th>1</th>\n",
              "      <td>2019-05-29</td>\n",
              "      <td>Thursday, August 32, 2018</td>\n",
              "      <td>12:00:00 AM</td>\n",
              "      <td>29-Jun-19</td>\n",
              "      <td>43645</td>\n",
              "      <td>02-Jul-18</td>\n",
              "      <td>43283.0</td>\n",
              "    </tr>\n",
              "    <tr>\n",
              "      <th>2</th>\n",
              "      <td>2019-04-28</td>\n",
              "      <td>Sunday, September 2, 2018</td>\n",
              "      <td>12:00:00 AM</td>\n",
              "      <td>28-Jun-19</td>\n",
              "      <td>43644</td>\n",
              "      <td>03-Jul-18</td>\n",
              "      <td>43284.0</td>\n",
              "    </tr>\n",
              "    <tr>\n",
              "      <th>3</th>\n",
              "      <td>2019-03-29</td>\n",
              "      <td>Tuesday, October 2, 2018</td>\n",
              "      <td>12:00:00 AM</td>\n",
              "      <td>27-Jun-19</td>\n",
              "      <td>43643</td>\n",
              "      <td>04-Jul-18</td>\n",
              "      <td>43285.0</td>\n",
              "    </tr>\n",
              "    <tr>\n",
              "      <th>4</th>\n",
              "      <td>2019-02-26</td>\n",
              "      <td>Friday, November 2, 2018</td>\n",
              "      <td>12:00:00 AM</td>\n",
              "      <td>26-Jun-19</td>\n",
              "      <td>43642</td>\n",
              "      <td>05-Jul-18</td>\n",
              "      <td>43286.0</td>\n",
              "    </tr>\n",
              "  </tbody>\n",
              "</table>\n",
              "</div>"
            ],
            "text/plain": [
              "       DATE1                      DATE2  ...      DATE4    DATE5\n",
              "0 2019-06-29       Monday, July 2, 2018  ...  01-Jul-18  43282.0\n",
              "1 2019-05-29  Thursday, August 32, 2018  ...  02-Jul-18  43283.0\n",
              "2 2019-04-28  Sunday, September 2, 2018  ...  03-Jul-18  43284.0\n",
              "3 2019-03-29   Tuesday, October 2, 2018  ...  04-Jul-18  43285.0\n",
              "4 2019-02-26   Friday, November 2, 2018  ...  05-Jul-18  43286.0\n",
              "\n",
              "[5 rows x 7 columns]"
            ]
          },
          "metadata": {
            "tags": []
          },
          "execution_count": 167
        }
      ]
    },
    {
      "cell_type": "markdown",
      "metadata": {
        "id": "eqLtFbfvibcx",
        "colab_type": "text"
      },
      "source": [
        "**DATE2:**"
      ]
    },
    {
      "cell_type": "code",
      "metadata": {
        "id": "MU4ASllV5vtE",
        "colab_type": "code",
        "colab": {
          "base_uri": "https://localhost:8080/",
          "height": 34
        },
        "outputId": "ee517a21-155f-4e46-d1b1-14a744a770bc"
      },
      "source": [
        "data.DATE2.dtype"
      ],
      "execution_count": 168,
      "outputs": [
        {
          "output_type": "execute_result",
          "data": {
            "text/plain": [
              "dtype('O')"
            ]
          },
          "metadata": {
            "tags": []
          },
          "execution_count": 168
        }
      ]
    },
    {
      "cell_type": "code",
      "metadata": {
        "id": "q-LzrTXL5vcE",
        "colab_type": "code",
        "colab": {
          "base_uri": "https://localhost:8080/",
          "height": 68
        },
        "outputId": "a2219a21-c080-4fc4-dbf7-b4b59019959f"
      },
      "source": [
        "# Check for invalid months, if any\n",
        "data['DATE2'].map(lambda x: x.split(',')[1].strip().split(' ')[0]).unique()"
      ],
      "execution_count": 169,
      "outputs": [
        {
          "output_type": "execute_result",
          "data": {
            "text/plain": [
              "array(['July', 'August', 'September', 'October', 'November', 'Desember',\n",
              "       'January', 'February', 'March', 'April', 'May', 'June'],\n",
              "      dtype=object)"
            ]
          },
          "metadata": {
            "tags": []
          },
          "execution_count": 169
        }
      ]
    },
    {
      "cell_type": "code",
      "metadata": {
        "id": "IkuGoo-r5v4_",
        "colab_type": "code",
        "colab": {
          "base_uri": "https://localhost:8080/",
          "height": 68
        },
        "outputId": "5e34aa6f-f25f-4045-8e5e-7d1a6e4c64ec"
      },
      "source": [
        "# Check for invalid dates, if any\n",
        "data['DATE2'].map(lambda x: x.split(',')[1].strip().split(' ')[1]).unique()"
      ],
      "execution_count": 170,
      "outputs": [
        {
          "output_type": "execute_result",
          "data": {
            "text/plain": [
              "array(['2', '32', '4', '1', '6', '3', '5', '7', '9', '8', '10', '11',\n",
              "       '12', '13', '14', '15', '16', '17', '18', '19', '20', '21', '22',\n",
              "       '23', '24', '25', '26', '27', '28', '29', '30', '31'], dtype=object)"
            ]
          },
          "metadata": {
            "tags": []
          },
          "execution_count": 170
        }
      ]
    },
    {
      "cell_type": "code",
      "metadata": {
        "id": "LCm4Z2i_egOd",
        "colab_type": "code",
        "colab": {
          "base_uri": "https://localhost:8080/",
          "height": 34
        },
        "outputId": "5ff3b90c-2149-4dfa-f867-3ae3cfa40972"
      },
      "source": [
        "# Check for invalid year, if any\n",
        "data['DATE2'].map(lambda x: x.split(',')[2].strip()).unique()"
      ],
      "execution_count": 171,
      "outputs": [
        {
          "output_type": "execute_result",
          "data": {
            "text/plain": [
              "array(['2018', '2019'], dtype=object)"
            ]
          },
          "metadata": {
            "tags": []
          },
          "execution_count": 171
        }
      ]
    },
    {
      "cell_type": "markdown",
      "metadata": {
        "id": "-zEoRpbDjQYI",
        "colab_type": "text"
      },
      "source": [
        "Observations:\n",
        "\n",
        "\n",
        "1.   'December' is misspelt as 'Desember'\n",
        "2.   Dates above 31 are typos and will be replaced by 30\n",
        "\n"
      ]
    },
    {
      "cell_type": "code",
      "metadata": {
        "id": "ukUK_ujIegFw",
        "colab_type": "code",
        "colab": {}
      },
      "source": [
        "# Correct the spelling of December\n",
        "data.DATE2.replace('Desember','December',regex = True , inplace =True)"
      ],
      "execution_count": 172,
      "outputs": []
    },
    {
      "cell_type": "code",
      "metadata": {
        "id": "aJaTq6TBegA2",
        "colab_type": "code",
        "colab": {
          "base_uri": "https://localhost:8080/",
          "height": 68
        },
        "outputId": "84843c4a-e7ea-44e3-b2b6-98fc783b1635"
      },
      "source": [
        "data['DATE2'].map(lambda x: x.split(',')[1].strip().split(' ')[0]).unique()"
      ],
      "execution_count": 173,
      "outputs": [
        {
          "output_type": "execute_result",
          "data": {
            "text/plain": [
              "array(['July', 'August', 'September', 'October', 'November', 'December',\n",
              "       'January', 'February', 'March', 'April', 'May', 'June'],\n",
              "      dtype=object)"
            ]
          },
          "metadata": {
            "tags": []
          },
          "execution_count": 173
        }
      ]
    },
    {
      "cell_type": "code",
      "metadata": {
        "id": "NJkB0CzDef7k",
        "colab_type": "code",
        "colab": {}
      },
      "source": [
        "# Replacing all invalid days with 30\n",
        "for x in filter(lambda w: w > 31 , data['DATE2'].map(lambda x: int(x.split(',')[1].strip().split(' ')[1]))):\n",
        "      data['DATE2'].replace(to_replace = str(x), value = '30', regex = True, inplace = True) "
      ],
      "execution_count": 174,
      "outputs": []
    },
    {
      "cell_type": "code",
      "metadata": {
        "id": "PmUsyKu5efzb",
        "colab_type": "code",
        "colab": {
          "base_uri": "https://localhost:8080/",
          "height": 51
        },
        "outputId": "69ba7987-71cc-4834-b0a9-cd413099158d"
      },
      "source": [
        "data['DATE2'].map(lambda x: int(x.split(',')[1].strip().split(' ')[1])).sort_values().unique()"
      ],
      "execution_count": 175,
      "outputs": [
        {
          "output_type": "execute_result",
          "data": {
            "text/plain": [
              "array([ 1,  2,  3,  4,  5,  6,  7,  8,  9, 10, 11, 12, 13, 14, 15, 16, 17,\n",
              "       18, 19, 20, 21, 22, 23, 24, 25, 26, 27, 28, 29, 30, 31])"
            ]
          },
          "metadata": {
            "tags": []
          },
          "execution_count": 175
        }
      ]
    },
    {
      "cell_type": "markdown",
      "metadata": {
        "id": "P6AKyY1Lk6V0",
        "colab_type": "text"
      },
      "source": [
        "Converting the dates to datetime:"
      ]
    },
    {
      "cell_type": "code",
      "metadata": {
        "id": "i9UXo9Bmefvx",
        "colab_type": "code",
        "colab": {}
      },
      "source": [
        "data['DATE2'] = pd.to_datetime(data['DATE2'], format =\"%A, %B %d, %Y\")"
      ],
      "execution_count": 176,
      "outputs": []
    },
    {
      "cell_type": "code",
      "metadata": {
        "id": "kA6Fn9uhistx",
        "colab_type": "code",
        "colab": {
          "base_uri": "https://localhost:8080/",
          "height": 34
        },
        "outputId": "92b27aad-e89f-4ad8-c33f-4daaf18b5f90"
      },
      "source": [
        "# Check datatype of DATE2\n",
        "data.DATE2.dtype"
      ],
      "execution_count": 177,
      "outputs": [
        {
          "output_type": "execute_result",
          "data": {
            "text/plain": [
              "dtype('<M8[ns]')"
            ]
          },
          "metadata": {
            "tags": []
          },
          "execution_count": 177
        }
      ]
    },
    {
      "cell_type": "code",
      "metadata": {
        "id": "UVHLtWfqitAg",
        "colab_type": "code",
        "colab": {
          "base_uri": "https://localhost:8080/",
          "height": 204
        },
        "outputId": "e5021f23-1a31-42ec-de0c-477d3059b4f6"
      },
      "source": [
        "data.head()"
      ],
      "execution_count": 178,
      "outputs": [
        {
          "output_type": "execute_result",
          "data": {
            "text/html": [
              "<div>\n",
              "<style scoped>\n",
              "    .dataframe tbody tr th:only-of-type {\n",
              "        vertical-align: middle;\n",
              "    }\n",
              "\n",
              "    .dataframe tbody tr th {\n",
              "        vertical-align: top;\n",
              "    }\n",
              "\n",
              "    .dataframe thead th {\n",
              "        text-align: right;\n",
              "    }\n",
              "</style>\n",
              "<table border=\"1\" class=\"dataframe\">\n",
              "  <thead>\n",
              "    <tr style=\"text-align: right;\">\n",
              "      <th></th>\n",
              "      <th>DATE1</th>\n",
              "      <th>DATE2</th>\n",
              "      <th>TIME</th>\n",
              "      <th>DATE3</th>\n",
              "      <th>NUMBER</th>\n",
              "      <th>DATE4</th>\n",
              "      <th>DATE5</th>\n",
              "    </tr>\n",
              "  </thead>\n",
              "  <tbody>\n",
              "    <tr>\n",
              "      <th>0</th>\n",
              "      <td>2019-06-29</td>\n",
              "      <td>2018-07-02</td>\n",
              "      <td>12:00:00 AM</td>\n",
              "      <td>30-Jun-19</td>\n",
              "      <td>43646</td>\n",
              "      <td>01-Jul-18</td>\n",
              "      <td>43282.0</td>\n",
              "    </tr>\n",
              "    <tr>\n",
              "      <th>1</th>\n",
              "      <td>2019-05-29</td>\n",
              "      <td>2018-08-30</td>\n",
              "      <td>12:00:00 AM</td>\n",
              "      <td>29-Jun-19</td>\n",
              "      <td>43645</td>\n",
              "      <td>02-Jul-18</td>\n",
              "      <td>43283.0</td>\n",
              "    </tr>\n",
              "    <tr>\n",
              "      <th>2</th>\n",
              "      <td>2019-04-28</td>\n",
              "      <td>2018-09-02</td>\n",
              "      <td>12:00:00 AM</td>\n",
              "      <td>28-Jun-19</td>\n",
              "      <td>43644</td>\n",
              "      <td>03-Jul-18</td>\n",
              "      <td>43284.0</td>\n",
              "    </tr>\n",
              "    <tr>\n",
              "      <th>3</th>\n",
              "      <td>2019-03-29</td>\n",
              "      <td>2018-10-02</td>\n",
              "      <td>12:00:00 AM</td>\n",
              "      <td>27-Jun-19</td>\n",
              "      <td>43643</td>\n",
              "      <td>04-Jul-18</td>\n",
              "      <td>43285.0</td>\n",
              "    </tr>\n",
              "    <tr>\n",
              "      <th>4</th>\n",
              "      <td>2019-02-26</td>\n",
              "      <td>2018-11-02</td>\n",
              "      <td>12:00:00 AM</td>\n",
              "      <td>26-Jun-19</td>\n",
              "      <td>43642</td>\n",
              "      <td>05-Jul-18</td>\n",
              "      <td>43286.0</td>\n",
              "    </tr>\n",
              "  </tbody>\n",
              "</table>\n",
              "</div>"
            ],
            "text/plain": [
              "       DATE1      DATE2         TIME      DATE3  NUMBER      DATE4    DATE5\n",
              "0 2019-06-29 2018-07-02  12:00:00 AM  30-Jun-19   43646  01-Jul-18  43282.0\n",
              "1 2019-05-29 2018-08-30  12:00:00 AM  29-Jun-19   43645  02-Jul-18  43283.0\n",
              "2 2019-04-28 2018-09-02  12:00:00 AM  28-Jun-19   43644  03-Jul-18  43284.0\n",
              "3 2019-03-29 2018-10-02  12:00:00 AM  27-Jun-19   43643  04-Jul-18  43285.0\n",
              "4 2019-02-26 2018-11-02  12:00:00 AM  26-Jun-19   43642  05-Jul-18  43286.0"
            ]
          },
          "metadata": {
            "tags": []
          },
          "execution_count": 178
        }
      ]
    },
    {
      "cell_type": "markdown",
      "metadata": {
        "id": "l70sBGPBlEoS",
        "colab_type": "text"
      },
      "source": [
        "**DATE3:**"
      ]
    },
    {
      "cell_type": "markdown",
      "metadata": {
        "id": "eLF4hrxmlPkB",
        "colab_type": "text"
      },
      "source": [
        "Checking for invalid values, if any:"
      ]
    },
    {
      "cell_type": "code",
      "metadata": {
        "id": "dqJWJYfWispy",
        "colab_type": "code",
        "colab": {
          "base_uri": "https://localhost:8080/",
          "height": 68
        },
        "outputId": "993e1ba8-6cf6-4142-94e0-d3b2e2824588"
      },
      "source": [
        "data['DATE3'].map(lambda x: x.split('-')[0]).sort_values().unique()"
      ],
      "execution_count": 179,
      "outputs": [
        {
          "output_type": "execute_result",
          "data": {
            "text/plain": [
              "array(['01', '02', '03', '04', '05', '06', '07', '08', '09', '10', '11',\n",
              "       '12', '13', '14', '15', '16', '17', '18', '19', '20', '21', '22',\n",
              "       '23', '24', '25', '26', '27', '28', '29', '30', '31'], dtype=object)"
            ]
          },
          "metadata": {
            "tags": []
          },
          "execution_count": 179
        }
      ]
    },
    {
      "cell_type": "code",
      "metadata": {
        "id": "4lj_M8ANisl1",
        "colab_type": "code",
        "colab": {
          "base_uri": "https://localhost:8080/",
          "height": 51
        },
        "outputId": "6e7c6ac7-16c4-44c2-f670-f9542768c915"
      },
      "source": [
        "data['DATE3'].map(lambda x: x.split('-')[1]).sort_values().unique()"
      ],
      "execution_count": 180,
      "outputs": [
        {
          "output_type": "execute_result",
          "data": {
            "text/plain": [
              "array(['Apr', 'Aug', 'Dec', 'Feb', 'Jan', 'Jul', 'Jun', 'Mar', 'May',\n",
              "       'Nov', 'Oct', 'Sep'], dtype=object)"
            ]
          },
          "metadata": {
            "tags": []
          },
          "execution_count": 180
        }
      ]
    },
    {
      "cell_type": "code",
      "metadata": {
        "id": "fQlxcLsuiscf",
        "colab_type": "code",
        "colab": {
          "base_uri": "https://localhost:8080/",
          "height": 34
        },
        "outputId": "7cb4784c-0ca2-43b0-a3fd-0bdd71b10615"
      },
      "source": [
        "data['DATE3'].map(lambda x: x.split('-')[2]).sort_values().unique()"
      ],
      "execution_count": 181,
      "outputs": [
        {
          "output_type": "execute_result",
          "data": {
            "text/plain": [
              "array(['18', '19'], dtype=object)"
            ]
          },
          "metadata": {
            "tags": []
          },
          "execution_count": 181
        }
      ]
    },
    {
      "cell_type": "markdown",
      "metadata": {
        "id": "t6hkCriXlXAw",
        "colab_type": "text"
      },
      "source": [
        "Everything looks correct. Converting dates to datetime:"
      ]
    },
    {
      "cell_type": "code",
      "metadata": {
        "id": "Ad5lTZScefpW",
        "colab_type": "code",
        "colab": {}
      },
      "source": [
        "data['DATE3'] = pd.to_datetime(data['DATE3'], format =\"%d-%b-%y\")"
      ],
      "execution_count": 182,
      "outputs": []
    },
    {
      "cell_type": "code",
      "metadata": {
        "id": "uWKlBS-nefa3",
        "colab_type": "code",
        "colab": {
          "base_uri": "https://localhost:8080/",
          "height": 34
        },
        "outputId": "41eb96df-af4e-41a9-8ea9-5a179dd7a140"
      },
      "source": [
        "# Checking datatyoe of DATE3\n",
        "data.DATE3.dtype"
      ],
      "execution_count": 183,
      "outputs": [
        {
          "output_type": "execute_result",
          "data": {
            "text/plain": [
              "dtype('<M8[ns]')"
            ]
          },
          "metadata": {
            "tags": []
          },
          "execution_count": 183
        }
      ]
    },
    {
      "cell_type": "code",
      "metadata": {
        "id": "YS7IC_LCm1tW",
        "colab_type": "code",
        "colab": {
          "base_uri": "https://localhost:8080/",
          "height": 204
        },
        "outputId": "aaa248b5-266b-46a4-8fac-14afeb95a6e8"
      },
      "source": [
        "data.head()"
      ],
      "execution_count": 184,
      "outputs": [
        {
          "output_type": "execute_result",
          "data": {
            "text/html": [
              "<div>\n",
              "<style scoped>\n",
              "    .dataframe tbody tr th:only-of-type {\n",
              "        vertical-align: middle;\n",
              "    }\n",
              "\n",
              "    .dataframe tbody tr th {\n",
              "        vertical-align: top;\n",
              "    }\n",
              "\n",
              "    .dataframe thead th {\n",
              "        text-align: right;\n",
              "    }\n",
              "</style>\n",
              "<table border=\"1\" class=\"dataframe\">\n",
              "  <thead>\n",
              "    <tr style=\"text-align: right;\">\n",
              "      <th></th>\n",
              "      <th>DATE1</th>\n",
              "      <th>DATE2</th>\n",
              "      <th>TIME</th>\n",
              "      <th>DATE3</th>\n",
              "      <th>NUMBER</th>\n",
              "      <th>DATE4</th>\n",
              "      <th>DATE5</th>\n",
              "    </tr>\n",
              "  </thead>\n",
              "  <tbody>\n",
              "    <tr>\n",
              "      <th>0</th>\n",
              "      <td>2019-06-29</td>\n",
              "      <td>2018-07-02</td>\n",
              "      <td>12:00:00 AM</td>\n",
              "      <td>2019-06-30</td>\n",
              "      <td>43646</td>\n",
              "      <td>01-Jul-18</td>\n",
              "      <td>43282.0</td>\n",
              "    </tr>\n",
              "    <tr>\n",
              "      <th>1</th>\n",
              "      <td>2019-05-29</td>\n",
              "      <td>2018-08-30</td>\n",
              "      <td>12:00:00 AM</td>\n",
              "      <td>2019-06-29</td>\n",
              "      <td>43645</td>\n",
              "      <td>02-Jul-18</td>\n",
              "      <td>43283.0</td>\n",
              "    </tr>\n",
              "    <tr>\n",
              "      <th>2</th>\n",
              "      <td>2019-04-28</td>\n",
              "      <td>2018-09-02</td>\n",
              "      <td>12:00:00 AM</td>\n",
              "      <td>2019-06-28</td>\n",
              "      <td>43644</td>\n",
              "      <td>03-Jul-18</td>\n",
              "      <td>43284.0</td>\n",
              "    </tr>\n",
              "    <tr>\n",
              "      <th>3</th>\n",
              "      <td>2019-03-29</td>\n",
              "      <td>2018-10-02</td>\n",
              "      <td>12:00:00 AM</td>\n",
              "      <td>2019-06-27</td>\n",
              "      <td>43643</td>\n",
              "      <td>04-Jul-18</td>\n",
              "      <td>43285.0</td>\n",
              "    </tr>\n",
              "    <tr>\n",
              "      <th>4</th>\n",
              "      <td>2019-02-26</td>\n",
              "      <td>2018-11-02</td>\n",
              "      <td>12:00:00 AM</td>\n",
              "      <td>2019-06-26</td>\n",
              "      <td>43642</td>\n",
              "      <td>05-Jul-18</td>\n",
              "      <td>43286.0</td>\n",
              "    </tr>\n",
              "  </tbody>\n",
              "</table>\n",
              "</div>"
            ],
            "text/plain": [
              "       DATE1      DATE2         TIME      DATE3  NUMBER      DATE4    DATE5\n",
              "0 2019-06-29 2018-07-02  12:00:00 AM 2019-06-30   43646  01-Jul-18  43282.0\n",
              "1 2019-05-29 2018-08-30  12:00:00 AM 2019-06-29   43645  02-Jul-18  43283.0\n",
              "2 2019-04-28 2018-09-02  12:00:00 AM 2019-06-28   43644  03-Jul-18  43284.0\n",
              "3 2019-03-29 2018-10-02  12:00:00 AM 2019-06-27   43643  04-Jul-18  43285.0\n",
              "4 2019-02-26 2018-11-02  12:00:00 AM 2019-06-26   43642  05-Jul-18  43286.0"
            ]
          },
          "metadata": {
            "tags": []
          },
          "execution_count": 184
        }
      ]
    },
    {
      "cell_type": "markdown",
      "metadata": {
        "id": "QGV05piTllQz",
        "colab_type": "text"
      },
      "source": [
        "**DATE4:**"
      ]
    },
    {
      "cell_type": "markdown",
      "metadata": {
        "id": "DZOq7G26lqqe",
        "colab_type": "text"
      },
      "source": [
        "Checking for invalid values, if any:"
      ]
    },
    {
      "cell_type": "code",
      "metadata": {
        "id": "c73LwjCVm1qG",
        "colab_type": "code",
        "colab": {
          "base_uri": "https://localhost:8080/",
          "height": 68
        },
        "outputId": "224d2063-f4ad-46b4-f4cc-b60052efc632"
      },
      "source": [
        "data['DATE4'].map(lambda x: x.split('-')[0]).sort_values().unique()"
      ],
      "execution_count": 185,
      "outputs": [
        {
          "output_type": "execute_result",
          "data": {
            "text/plain": [
              "array(['01', '02', '03', '04', '05', '06', '07', '08', '09', '10', '11',\n",
              "       '12', '13', '14', '15', '16', '17', '18', '19', '20', '21', '22',\n",
              "       '23', '24', '25', '26', '27', '28', '29', '30', '31'], dtype=object)"
            ]
          },
          "metadata": {
            "tags": []
          },
          "execution_count": 185
        }
      ]
    },
    {
      "cell_type": "code",
      "metadata": {
        "id": "Y0M91Hwkm1ml",
        "colab_type": "code",
        "colab": {
          "base_uri": "https://localhost:8080/",
          "height": 51
        },
        "outputId": "d7392b25-7b49-49c7-8610-a1dbb0df13cd"
      },
      "source": [
        "data['DATE4'].map(lambda x: x.split('-')[1]).sort_values().unique()"
      ],
      "execution_count": 186,
      "outputs": [
        {
          "output_type": "execute_result",
          "data": {
            "text/plain": [
              "array(['Apr', 'Aug', 'Dec', 'Feb', 'Jan', 'Jul', 'Jun', 'Mar', 'May',\n",
              "       'Nov', 'Oct', 'Sep'], dtype=object)"
            ]
          },
          "metadata": {
            "tags": []
          },
          "execution_count": 186
        }
      ]
    },
    {
      "cell_type": "code",
      "metadata": {
        "id": "yeS7kwXQm1i0",
        "colab_type": "code",
        "colab": {
          "base_uri": "https://localhost:8080/",
          "height": 34
        },
        "outputId": "c8f13f10-7777-46de-d93f-8a48b15518e3"
      },
      "source": [
        "data['DATE4'].map(lambda x: x.split('-')[2]).sort_values().unique()"
      ],
      "execution_count": 187,
      "outputs": [
        {
          "output_type": "execute_result",
          "data": {
            "text/plain": [
              "array(['18', '19'], dtype=object)"
            ]
          },
          "metadata": {
            "tags": []
          },
          "execution_count": 187
        }
      ]
    },
    {
      "cell_type": "markdown",
      "metadata": {
        "id": "8hD6XHZclymI",
        "colab_type": "text"
      },
      "source": [
        "Converting the dates to datetime:"
      ]
    },
    {
      "cell_type": "code",
      "metadata": {
        "id": "vbHi9jIJm1f3",
        "colab_type": "code",
        "colab": {}
      },
      "source": [
        "data['DATE4'] = pd.to_datetime(data['DATE4'], format =\"%d-%b-%y\")"
      ],
      "execution_count": 188,
      "outputs": []
    },
    {
      "cell_type": "code",
      "metadata": {
        "id": "3dt3UY32m1c2",
        "colab_type": "code",
        "colab": {
          "base_uri": "https://localhost:8080/",
          "height": 204
        },
        "outputId": "38ea4f97-d027-4d29-9bc5-5a027636fa1e"
      },
      "source": [
        "data.head()"
      ],
      "execution_count": 189,
      "outputs": [
        {
          "output_type": "execute_result",
          "data": {
            "text/html": [
              "<div>\n",
              "<style scoped>\n",
              "    .dataframe tbody tr th:only-of-type {\n",
              "        vertical-align: middle;\n",
              "    }\n",
              "\n",
              "    .dataframe tbody tr th {\n",
              "        vertical-align: top;\n",
              "    }\n",
              "\n",
              "    .dataframe thead th {\n",
              "        text-align: right;\n",
              "    }\n",
              "</style>\n",
              "<table border=\"1\" class=\"dataframe\">\n",
              "  <thead>\n",
              "    <tr style=\"text-align: right;\">\n",
              "      <th></th>\n",
              "      <th>DATE1</th>\n",
              "      <th>DATE2</th>\n",
              "      <th>TIME</th>\n",
              "      <th>DATE3</th>\n",
              "      <th>NUMBER</th>\n",
              "      <th>DATE4</th>\n",
              "      <th>DATE5</th>\n",
              "    </tr>\n",
              "  </thead>\n",
              "  <tbody>\n",
              "    <tr>\n",
              "      <th>0</th>\n",
              "      <td>2019-06-29</td>\n",
              "      <td>2018-07-02</td>\n",
              "      <td>12:00:00 AM</td>\n",
              "      <td>2019-06-30</td>\n",
              "      <td>43646</td>\n",
              "      <td>2018-07-01</td>\n",
              "      <td>43282.0</td>\n",
              "    </tr>\n",
              "    <tr>\n",
              "      <th>1</th>\n",
              "      <td>2019-05-29</td>\n",
              "      <td>2018-08-30</td>\n",
              "      <td>12:00:00 AM</td>\n",
              "      <td>2019-06-29</td>\n",
              "      <td>43645</td>\n",
              "      <td>2018-07-02</td>\n",
              "      <td>43283.0</td>\n",
              "    </tr>\n",
              "    <tr>\n",
              "      <th>2</th>\n",
              "      <td>2019-04-28</td>\n",
              "      <td>2018-09-02</td>\n",
              "      <td>12:00:00 AM</td>\n",
              "      <td>2019-06-28</td>\n",
              "      <td>43644</td>\n",
              "      <td>2018-07-03</td>\n",
              "      <td>43284.0</td>\n",
              "    </tr>\n",
              "    <tr>\n",
              "      <th>3</th>\n",
              "      <td>2019-03-29</td>\n",
              "      <td>2018-10-02</td>\n",
              "      <td>12:00:00 AM</td>\n",
              "      <td>2019-06-27</td>\n",
              "      <td>43643</td>\n",
              "      <td>2018-07-04</td>\n",
              "      <td>43285.0</td>\n",
              "    </tr>\n",
              "    <tr>\n",
              "      <th>4</th>\n",
              "      <td>2019-02-26</td>\n",
              "      <td>2018-11-02</td>\n",
              "      <td>12:00:00 AM</td>\n",
              "      <td>2019-06-26</td>\n",
              "      <td>43642</td>\n",
              "      <td>2018-07-05</td>\n",
              "      <td>43286.0</td>\n",
              "    </tr>\n",
              "  </tbody>\n",
              "</table>\n",
              "</div>"
            ],
            "text/plain": [
              "       DATE1      DATE2         TIME      DATE3  NUMBER      DATE4    DATE5\n",
              "0 2019-06-29 2018-07-02  12:00:00 AM 2019-06-30   43646 2018-07-01  43282.0\n",
              "1 2019-05-29 2018-08-30  12:00:00 AM 2019-06-29   43645 2018-07-02  43283.0\n",
              "2 2019-04-28 2018-09-02  12:00:00 AM 2019-06-28   43644 2018-07-03  43284.0\n",
              "3 2019-03-29 2018-10-02  12:00:00 AM 2019-06-27   43643 2018-07-04  43285.0\n",
              "4 2019-02-26 2018-11-02  12:00:00 AM 2019-06-26   43642 2018-07-05  43286.0"
            ]
          },
          "metadata": {
            "tags": []
          },
          "execution_count": 189
        }
      ]
    },
    {
      "cell_type": "markdown",
      "metadata": {
        "id": "eepHHHGCl36X",
        "colab_type": "text"
      },
      "source": [
        "**DATE5:**"
      ]
    },
    {
      "cell_type": "markdown",
      "metadata": {
        "id": "qNmgv29qmImm",
        "colab_type": "text"
      },
      "source": [
        "Observations:\n",
        "\n",
        "\n",
        "1.   The values in this column are date offsets\n",
        "2.   The origin of date is 1899-12-30\n",
        "\n"
      ]
    },
    {
      "cell_type": "code",
      "metadata": {
        "id": "DNM33uoqm1aV",
        "colab_type": "code",
        "colab": {}
      },
      "source": [
        "base_date = pd.Timestamp('1899-12-30')\n",
        "data.DATE5= data['DATE5'].map(lambda x: base_date + pd.DateOffset(x))"
      ],
      "execution_count": 190,
      "outputs": []
    },
    {
      "cell_type": "code",
      "metadata": {
        "id": "htWNupkjm1XI",
        "colab_type": "code",
        "colab": {
          "base_uri": "https://localhost:8080/",
          "height": 34
        },
        "outputId": "89364477-6871-491d-a7b6-8d925bb8792b"
      },
      "source": [
        "# Checking datatype of DATE5\n",
        "data.DATE5.dtype"
      ],
      "execution_count": 191,
      "outputs": [
        {
          "output_type": "execute_result",
          "data": {
            "text/plain": [
              "dtype('<M8[ns]')"
            ]
          },
          "metadata": {
            "tags": []
          },
          "execution_count": 191
        }
      ]
    },
    {
      "cell_type": "code",
      "metadata": {
        "id": "ezdkLljQ8ZBp",
        "colab_type": "code",
        "colab": {
          "base_uri": "https://localhost:8080/",
          "height": 34
        },
        "outputId": "5fc05bbe-da7f-4782-9074-7a4b509bba68"
      },
      "source": [
        "# Check for nulls\n",
        "data.isnull().sum().sum()"
      ],
      "execution_count": 192,
      "outputs": [
        {
          "output_type": "execute_result",
          "data": {
            "text/plain": [
              "0"
            ]
          },
          "metadata": {
            "tags": []
          },
          "execution_count": 192
        }
      ]
    },
    {
      "cell_type": "markdown",
      "metadata": {
        "id": "bwxktFVUmhvQ",
        "colab_type": "text"
      },
      "source": [
        "**DATA IS READY**"
      ]
    },
    {
      "cell_type": "code",
      "metadata": {
        "id": "S1oM7wBPm1UM",
        "colab_type": "code",
        "colab": {
          "base_uri": "https://localhost:8080/",
          "height": 204
        },
        "outputId": "3707de24-9b3d-40fb-fb0a-92fa8721a623"
      },
      "source": [
        "data.head()"
      ],
      "execution_count": 193,
      "outputs": [
        {
          "output_type": "execute_result",
          "data": {
            "text/html": [
              "<div>\n",
              "<style scoped>\n",
              "    .dataframe tbody tr th:only-of-type {\n",
              "        vertical-align: middle;\n",
              "    }\n",
              "\n",
              "    .dataframe tbody tr th {\n",
              "        vertical-align: top;\n",
              "    }\n",
              "\n",
              "    .dataframe thead th {\n",
              "        text-align: right;\n",
              "    }\n",
              "</style>\n",
              "<table border=\"1\" class=\"dataframe\">\n",
              "  <thead>\n",
              "    <tr style=\"text-align: right;\">\n",
              "      <th></th>\n",
              "      <th>DATE1</th>\n",
              "      <th>DATE2</th>\n",
              "      <th>TIME</th>\n",
              "      <th>DATE3</th>\n",
              "      <th>NUMBER</th>\n",
              "      <th>DATE4</th>\n",
              "      <th>DATE5</th>\n",
              "    </tr>\n",
              "  </thead>\n",
              "  <tbody>\n",
              "    <tr>\n",
              "      <th>0</th>\n",
              "      <td>2019-06-29</td>\n",
              "      <td>2018-07-02</td>\n",
              "      <td>12:00:00 AM</td>\n",
              "      <td>2019-06-30</td>\n",
              "      <td>43646</td>\n",
              "      <td>2018-07-01</td>\n",
              "      <td>2018-07-01</td>\n",
              "    </tr>\n",
              "    <tr>\n",
              "      <th>1</th>\n",
              "      <td>2019-05-29</td>\n",
              "      <td>2018-08-30</td>\n",
              "      <td>12:00:00 AM</td>\n",
              "      <td>2019-06-29</td>\n",
              "      <td>43645</td>\n",
              "      <td>2018-07-02</td>\n",
              "      <td>2018-07-02</td>\n",
              "    </tr>\n",
              "    <tr>\n",
              "      <th>2</th>\n",
              "      <td>2019-04-28</td>\n",
              "      <td>2018-09-02</td>\n",
              "      <td>12:00:00 AM</td>\n",
              "      <td>2019-06-28</td>\n",
              "      <td>43644</td>\n",
              "      <td>2018-07-03</td>\n",
              "      <td>2018-07-03</td>\n",
              "    </tr>\n",
              "    <tr>\n",
              "      <th>3</th>\n",
              "      <td>2019-03-29</td>\n",
              "      <td>2018-10-02</td>\n",
              "      <td>12:00:00 AM</td>\n",
              "      <td>2019-06-27</td>\n",
              "      <td>43643</td>\n",
              "      <td>2018-07-04</td>\n",
              "      <td>2018-07-04</td>\n",
              "    </tr>\n",
              "    <tr>\n",
              "      <th>4</th>\n",
              "      <td>2019-02-26</td>\n",
              "      <td>2018-11-02</td>\n",
              "      <td>12:00:00 AM</td>\n",
              "      <td>2019-06-26</td>\n",
              "      <td>43642</td>\n",
              "      <td>2018-07-05</td>\n",
              "      <td>2018-07-05</td>\n",
              "    </tr>\n",
              "  </tbody>\n",
              "</table>\n",
              "</div>"
            ],
            "text/plain": [
              "       DATE1      DATE2         TIME      DATE3  NUMBER      DATE4      DATE5\n",
              "0 2019-06-29 2018-07-02  12:00:00 AM 2019-06-30   43646 2018-07-01 2018-07-01\n",
              "1 2019-05-29 2018-08-30  12:00:00 AM 2019-06-29   43645 2018-07-02 2018-07-02\n",
              "2 2019-04-28 2018-09-02  12:00:00 AM 2019-06-28   43644 2018-07-03 2018-07-03\n",
              "3 2019-03-29 2018-10-02  12:00:00 AM 2019-06-27   43643 2018-07-04 2018-07-04\n",
              "4 2019-02-26 2018-11-02  12:00:00 AM 2019-06-26   43642 2018-07-05 2018-07-05"
            ]
          },
          "metadata": {
            "tags": []
          },
          "execution_count": 193
        }
      ]
    },
    {
      "cell_type": "markdown",
      "metadata": {
        "id": "Fniy8J9DmomS",
        "colab_type": "text"
      },
      "source": [
        "**FUNCTION:**\n",
        "\n",
        "\n",
        "1.   INPUT: dataframe\n",
        "2.   OUTPUT: New columns that are difference of date columns\n",
        "\n"
      ]
    },
    {
      "cell_type": "code",
      "metadata": {
        "id": "NW15aigpm1Rn",
        "colab_type": "code",
        "colab": {}
      },
      "source": [
        "def date_diff(df):\n",
        "  for i in range(len(df.columns)):\n",
        "   for j in range(i+1,len(df.columns)):\n",
        "     if (df.dtypes[i] == '<M8[ns]') and (df.dtypes[j] == '<M8[ns]'):\n",
        "      df['{}-{}'.format(df.columns[i],df.columns[j])]= data[data.columns[i]] -data[data.columns[j]]"
      ],
      "execution_count": 194,
      "outputs": []
    },
    {
      "cell_type": "code",
      "metadata": {
        "id": "vAo9VWzZ8h5B",
        "colab_type": "code",
        "colab": {}
      },
      "source": [
        "date_diff(data)"
      ],
      "execution_count": 195,
      "outputs": []
    },
    {
      "cell_type": "markdown",
      "metadata": {
        "id": "hCJN-qNUm4b9",
        "colab_type": "text"
      },
      "source": [
        "**RESULT:**"
      ]
    },
    {
      "cell_type": "code",
      "metadata": {
        "id": "xAiRBBYvm1L1",
        "colab_type": "code",
        "colab": {
          "base_uri": "https://localhost:8080/",
          "height": 326
        },
        "outputId": "900314ab-d432-41db-b03c-233348d9abf1"
      },
      "source": [
        "data.head()"
      ],
      "execution_count": 196,
      "outputs": [
        {
          "output_type": "execute_result",
          "data": {
            "text/html": [
              "<div>\n",
              "<style scoped>\n",
              "    .dataframe tbody tr th:only-of-type {\n",
              "        vertical-align: middle;\n",
              "    }\n",
              "\n",
              "    .dataframe tbody tr th {\n",
              "        vertical-align: top;\n",
              "    }\n",
              "\n",
              "    .dataframe thead th {\n",
              "        text-align: right;\n",
              "    }\n",
              "</style>\n",
              "<table border=\"1\" class=\"dataframe\">\n",
              "  <thead>\n",
              "    <tr style=\"text-align: right;\">\n",
              "      <th></th>\n",
              "      <th>DATE1</th>\n",
              "      <th>DATE2</th>\n",
              "      <th>TIME</th>\n",
              "      <th>DATE3</th>\n",
              "      <th>NUMBER</th>\n",
              "      <th>DATE4</th>\n",
              "      <th>DATE5</th>\n",
              "      <th>DATE1-DATE2</th>\n",
              "      <th>DATE1-DATE3</th>\n",
              "      <th>DATE1-DATE4</th>\n",
              "      <th>DATE1-DATE5</th>\n",
              "      <th>DATE2-DATE3</th>\n",
              "      <th>DATE2-DATE4</th>\n",
              "      <th>DATE2-DATE5</th>\n",
              "      <th>DATE3-DATE4</th>\n",
              "      <th>DATE3-DATE5</th>\n",
              "      <th>DATE4-DATE5</th>\n",
              "    </tr>\n",
              "  </thead>\n",
              "  <tbody>\n",
              "    <tr>\n",
              "      <th>0</th>\n",
              "      <td>2019-06-29</td>\n",
              "      <td>2018-07-02</td>\n",
              "      <td>12:00:00 AM</td>\n",
              "      <td>2019-06-30</td>\n",
              "      <td>43646</td>\n",
              "      <td>2018-07-01</td>\n",
              "      <td>2018-07-01</td>\n",
              "      <td>362 days</td>\n",
              "      <td>-1 days</td>\n",
              "      <td>363 days</td>\n",
              "      <td>363 days</td>\n",
              "      <td>-363 days</td>\n",
              "      <td>1 days</td>\n",
              "      <td>1 days</td>\n",
              "      <td>364 days</td>\n",
              "      <td>364 days</td>\n",
              "      <td>0 days</td>\n",
              "    </tr>\n",
              "    <tr>\n",
              "      <th>1</th>\n",
              "      <td>2019-05-29</td>\n",
              "      <td>2018-08-30</td>\n",
              "      <td>12:00:00 AM</td>\n",
              "      <td>2019-06-29</td>\n",
              "      <td>43645</td>\n",
              "      <td>2018-07-02</td>\n",
              "      <td>2018-07-02</td>\n",
              "      <td>272 days</td>\n",
              "      <td>-31 days</td>\n",
              "      <td>331 days</td>\n",
              "      <td>331 days</td>\n",
              "      <td>-303 days</td>\n",
              "      <td>59 days</td>\n",
              "      <td>59 days</td>\n",
              "      <td>362 days</td>\n",
              "      <td>362 days</td>\n",
              "      <td>0 days</td>\n",
              "    </tr>\n",
              "    <tr>\n",
              "      <th>2</th>\n",
              "      <td>2019-04-28</td>\n",
              "      <td>2018-09-02</td>\n",
              "      <td>12:00:00 AM</td>\n",
              "      <td>2019-06-28</td>\n",
              "      <td>43644</td>\n",
              "      <td>2018-07-03</td>\n",
              "      <td>2018-07-03</td>\n",
              "      <td>238 days</td>\n",
              "      <td>-61 days</td>\n",
              "      <td>299 days</td>\n",
              "      <td>299 days</td>\n",
              "      <td>-299 days</td>\n",
              "      <td>61 days</td>\n",
              "      <td>61 days</td>\n",
              "      <td>360 days</td>\n",
              "      <td>360 days</td>\n",
              "      <td>0 days</td>\n",
              "    </tr>\n",
              "    <tr>\n",
              "      <th>3</th>\n",
              "      <td>2019-03-29</td>\n",
              "      <td>2018-10-02</td>\n",
              "      <td>12:00:00 AM</td>\n",
              "      <td>2019-06-27</td>\n",
              "      <td>43643</td>\n",
              "      <td>2018-07-04</td>\n",
              "      <td>2018-07-04</td>\n",
              "      <td>178 days</td>\n",
              "      <td>-90 days</td>\n",
              "      <td>268 days</td>\n",
              "      <td>268 days</td>\n",
              "      <td>-268 days</td>\n",
              "      <td>90 days</td>\n",
              "      <td>90 days</td>\n",
              "      <td>358 days</td>\n",
              "      <td>358 days</td>\n",
              "      <td>0 days</td>\n",
              "    </tr>\n",
              "    <tr>\n",
              "      <th>4</th>\n",
              "      <td>2019-02-26</td>\n",
              "      <td>2018-11-02</td>\n",
              "      <td>12:00:00 AM</td>\n",
              "      <td>2019-06-26</td>\n",
              "      <td>43642</td>\n",
              "      <td>2018-07-05</td>\n",
              "      <td>2018-07-05</td>\n",
              "      <td>116 days</td>\n",
              "      <td>-120 days</td>\n",
              "      <td>236 days</td>\n",
              "      <td>236 days</td>\n",
              "      <td>-236 days</td>\n",
              "      <td>120 days</td>\n",
              "      <td>120 days</td>\n",
              "      <td>356 days</td>\n",
              "      <td>356 days</td>\n",
              "      <td>0 days</td>\n",
              "    </tr>\n",
              "  </tbody>\n",
              "</table>\n",
              "</div>"
            ],
            "text/plain": [
              "       DATE1      DATE2         TIME  ... DATE3-DATE4  DATE3-DATE5 DATE4-DATE5\n",
              "0 2019-06-29 2018-07-02  12:00:00 AM  ...    364 days     364 days      0 days\n",
              "1 2019-05-29 2018-08-30  12:00:00 AM  ...    362 days     362 days      0 days\n",
              "2 2019-04-28 2018-09-02  12:00:00 AM  ...    360 days     360 days      0 days\n",
              "3 2019-03-29 2018-10-02  12:00:00 AM  ...    358 days     358 days      0 days\n",
              "4 2019-02-26 2018-11-02  12:00:00 AM  ...    356 days     356 days      0 days\n",
              "\n",
              "[5 rows x 17 columns]"
            ]
          },
          "metadata": {
            "tags": []
          },
          "execution_count": 196
        }
      ]
    },
    {
      "cell_type": "markdown",
      "metadata": {
        "id": "bHMW4XZd8tz0",
        "colab_type": "text"
      },
      "source": [
        "**TASK 2:**\n",
        "Write a function in python that take dataframe as input and drop columns having Pearson correlation more than 0.85."
      ]
    },
    {
      "cell_type": "code",
      "metadata": {
        "id": "kULXHxwfUuxu",
        "colab_type": "code",
        "colab": {
          "base_uri": "https://localhost:8080/",
          "height": 34
        },
        "outputId": "391a3380-fc88-4392-da2f-34b8d9cb4d3d"
      },
      "source": [
        "# Read data and check for nulls\n",
        "data_1 = pd.read_csv('/1000 Sales Records.csv')\n",
        "data_1.isnull().sum().sum()"
      ],
      "execution_count": 197,
      "outputs": [
        {
          "output_type": "execute_result",
          "data": {
            "text/plain": [
              "0"
            ]
          },
          "metadata": {
            "tags": []
          },
          "execution_count": 197
        }
      ]
    },
    {
      "cell_type": "code",
      "metadata": {
        "id": "2C265b7RUwyd",
        "colab_type": "code",
        "colab": {
          "base_uri": "https://localhost:8080/",
          "height": 428
        },
        "outputId": "95d047bf-4b6c-469e-d34d-2738f4414e3d"
      },
      "source": [
        "data_1.head()"
      ],
      "execution_count": 198,
      "outputs": [
        {
          "output_type": "execute_result",
          "data": {
            "text/html": [
              "<div>\n",
              "<style scoped>\n",
              "    .dataframe tbody tr th:only-of-type {\n",
              "        vertical-align: middle;\n",
              "    }\n",
              "\n",
              "    .dataframe tbody tr th {\n",
              "        vertical-align: top;\n",
              "    }\n",
              "\n",
              "    .dataframe thead th {\n",
              "        text-align: right;\n",
              "    }\n",
              "</style>\n",
              "<table border=\"1\" class=\"dataframe\">\n",
              "  <thead>\n",
              "    <tr style=\"text-align: right;\">\n",
              "      <th></th>\n",
              "      <th>Region</th>\n",
              "      <th>Country</th>\n",
              "      <th>Item Type</th>\n",
              "      <th>Sales Channel</th>\n",
              "      <th>Order Priority</th>\n",
              "      <th>Order Date</th>\n",
              "      <th>Order ID</th>\n",
              "      <th>Ship Date</th>\n",
              "      <th>Units Sold</th>\n",
              "      <th>Unit Price</th>\n",
              "      <th>Unit Cost</th>\n",
              "      <th>Total Revenue</th>\n",
              "      <th>Total Cost</th>\n",
              "      <th>Total Profit</th>\n",
              "    </tr>\n",
              "  </thead>\n",
              "  <tbody>\n",
              "    <tr>\n",
              "      <th>0</th>\n",
              "      <td>Middle East and North Africa</td>\n",
              "      <td>Libya</td>\n",
              "      <td>Cosmetics</td>\n",
              "      <td>Offline</td>\n",
              "      <td>M</td>\n",
              "      <td>10/18/2014</td>\n",
              "      <td>686800706</td>\n",
              "      <td>10/31/2014</td>\n",
              "      <td>8446</td>\n",
              "      <td>437.20</td>\n",
              "      <td>263.33</td>\n",
              "      <td>3692591.20</td>\n",
              "      <td>2224085.18</td>\n",
              "      <td>1468506.02</td>\n",
              "    </tr>\n",
              "    <tr>\n",
              "      <th>1</th>\n",
              "      <td>North America</td>\n",
              "      <td>Canada</td>\n",
              "      <td>Vegetables</td>\n",
              "      <td>Online</td>\n",
              "      <td>M</td>\n",
              "      <td>11/7/2011</td>\n",
              "      <td>185941302</td>\n",
              "      <td>12/8/2011</td>\n",
              "      <td>3018</td>\n",
              "      <td>154.06</td>\n",
              "      <td>90.93</td>\n",
              "      <td>464953.08</td>\n",
              "      <td>274426.74</td>\n",
              "      <td>190526.34</td>\n",
              "    </tr>\n",
              "    <tr>\n",
              "      <th>2</th>\n",
              "      <td>Middle East and North Africa</td>\n",
              "      <td>Libya</td>\n",
              "      <td>Baby Food</td>\n",
              "      <td>Offline</td>\n",
              "      <td>C</td>\n",
              "      <td>10/31/2016</td>\n",
              "      <td>246222341</td>\n",
              "      <td>12/9/2016</td>\n",
              "      <td>1517</td>\n",
              "      <td>255.28</td>\n",
              "      <td>159.42</td>\n",
              "      <td>387259.76</td>\n",
              "      <td>241840.14</td>\n",
              "      <td>145419.62</td>\n",
              "    </tr>\n",
              "    <tr>\n",
              "      <th>3</th>\n",
              "      <td>Asia</td>\n",
              "      <td>Japan</td>\n",
              "      <td>Cereal</td>\n",
              "      <td>Offline</td>\n",
              "      <td>C</td>\n",
              "      <td>4/10/2010</td>\n",
              "      <td>161442649</td>\n",
              "      <td>5/12/2010</td>\n",
              "      <td>3322</td>\n",
              "      <td>205.70</td>\n",
              "      <td>117.11</td>\n",
              "      <td>683335.40</td>\n",
              "      <td>389039.42</td>\n",
              "      <td>294295.98</td>\n",
              "    </tr>\n",
              "    <tr>\n",
              "      <th>4</th>\n",
              "      <td>Sub-Saharan Africa</td>\n",
              "      <td>Chad</td>\n",
              "      <td>Fruits</td>\n",
              "      <td>Offline</td>\n",
              "      <td>H</td>\n",
              "      <td>8/16/2011</td>\n",
              "      <td>645713555</td>\n",
              "      <td>8/31/2011</td>\n",
              "      <td>9845</td>\n",
              "      <td>9.33</td>\n",
              "      <td>6.92</td>\n",
              "      <td>91853.85</td>\n",
              "      <td>68127.40</td>\n",
              "      <td>23726.45</td>\n",
              "    </tr>\n",
              "  </tbody>\n",
              "</table>\n",
              "</div>"
            ],
            "text/plain": [
              "                         Region Country  ...  Total Cost Total Profit\n",
              "0  Middle East and North Africa   Libya  ...  2224085.18   1468506.02\n",
              "1                 North America  Canada  ...   274426.74    190526.34\n",
              "2  Middle East and North Africa   Libya  ...   241840.14    145419.62\n",
              "3                          Asia   Japan  ...   389039.42    294295.98\n",
              "4            Sub-Saharan Africa    Chad  ...    68127.40     23726.45\n",
              "\n",
              "[5 rows x 14 columns]"
            ]
          },
          "metadata": {
            "tags": []
          },
          "execution_count": 198
        }
      ]
    },
    {
      "cell_type": "code",
      "metadata": {
        "id": "QfePk6mZclwe",
        "colab_type": "code",
        "colab": {
          "base_uri": "https://localhost:8080/",
          "height": 34
        },
        "outputId": "d37e3c41-32ad-4ed0-87b7-a6b54cfd54cf"
      },
      "source": [
        "data_1.shape"
      ],
      "execution_count": 199,
      "outputs": [
        {
          "output_type": "execute_result",
          "data": {
            "text/plain": [
              "(1000, 14)"
            ]
          },
          "metadata": {
            "tags": []
          },
          "execution_count": 199
        }
      ]
    },
    {
      "cell_type": "markdown",
      "metadata": {
        "id": "zYUMLjNsnLGj",
        "colab_type": "text"
      },
      "source": [
        "**FUNCTION:**\n",
        "\n",
        "\n",
        "1.   INPUT: dataframe\n",
        "2.   OUTPUT: List of columns with Pearson correlation coefficient > 0.85\n",
        "\n"
      ]
    },
    {
      "cell_type": "code",
      "metadata": {
        "id": "RNFcY1jvXnyc",
        "colab_type": "code",
        "colab": {}
      },
      "source": [
        "def drop_pc(df):\n",
        "  # Create correlation matrix\n",
        "  corr_matrix = df.corr(method = 'pearson').abs()\n",
        "  # Select upper triangle of correlation matrix\n",
        "  upper = corr_matrix.where(np.triu(np.ones(corr_matrix.shape), k=1).astype(np.bool))\n",
        "  # Return list of columns with correlation coefficient greater than 0.85\n",
        "  return [column for column in upper.columns if any(upper[column] > 0.85)] "
      ],
      "execution_count": 200,
      "outputs": []
    },
    {
      "cell_type": "code",
      "metadata": {
        "id": "A-BsKFKxXnub",
        "colab_type": "code",
        "colab": {
          "base_uri": "https://localhost:8080/",
          "height": 34
        },
        "outputId": "74df2a40-030b-4845-a668-e2e714797e4b"
      },
      "source": [
        "# Print columns that will be dropped\n",
        "drop_pc(data_1)"
      ],
      "execution_count": 201,
      "outputs": [
        {
          "output_type": "execute_result",
          "data": {
            "text/plain": [
              "['Unit Cost', 'Total Cost', 'Total Profit']"
            ]
          },
          "metadata": {
            "tags": []
          },
          "execution_count": 201
        }
      ]
    },
    {
      "cell_type": "markdown",
      "metadata": {
        "id": "1AbdTE7iohvH",
        "colab_type": "text"
      },
      "source": [
        "**RESULT:**"
      ]
    },
    {
      "cell_type": "code",
      "metadata": {
        "id": "xC-iqqXuXngn",
        "colab_type": "code",
        "colab": {
          "base_uri": "https://localhost:8080/",
          "height": 589
        },
        "outputId": "01f614b2-0639-4bcd-8b76-fdbe9a69d111"
      },
      "source": [
        "# Drop columns with correlation coefficient greater than 0.85\n",
        "data_1.drop(drop_pc(data_1), axis=1)"
      ],
      "execution_count": 202,
      "outputs": [
        {
          "output_type": "execute_result",
          "data": {
            "text/html": [
              "<div>\n",
              "<style scoped>\n",
              "    .dataframe tbody tr th:only-of-type {\n",
              "        vertical-align: middle;\n",
              "    }\n",
              "\n",
              "    .dataframe tbody tr th {\n",
              "        vertical-align: top;\n",
              "    }\n",
              "\n",
              "    .dataframe thead th {\n",
              "        text-align: right;\n",
              "    }\n",
              "</style>\n",
              "<table border=\"1\" class=\"dataframe\">\n",
              "  <thead>\n",
              "    <tr style=\"text-align: right;\">\n",
              "      <th></th>\n",
              "      <th>Region</th>\n",
              "      <th>Country</th>\n",
              "      <th>Item Type</th>\n",
              "      <th>Sales Channel</th>\n",
              "      <th>Order Priority</th>\n",
              "      <th>Order Date</th>\n",
              "      <th>Order ID</th>\n",
              "      <th>Ship Date</th>\n",
              "      <th>Units Sold</th>\n",
              "      <th>Unit Price</th>\n",
              "      <th>Total Revenue</th>\n",
              "    </tr>\n",
              "  </thead>\n",
              "  <tbody>\n",
              "    <tr>\n",
              "      <th>0</th>\n",
              "      <td>Middle East and North Africa</td>\n",
              "      <td>Libya</td>\n",
              "      <td>Cosmetics</td>\n",
              "      <td>Offline</td>\n",
              "      <td>M</td>\n",
              "      <td>10/18/2014</td>\n",
              "      <td>686800706</td>\n",
              "      <td>10/31/2014</td>\n",
              "      <td>8446</td>\n",
              "      <td>437.20</td>\n",
              "      <td>3692591.20</td>\n",
              "    </tr>\n",
              "    <tr>\n",
              "      <th>1</th>\n",
              "      <td>North America</td>\n",
              "      <td>Canada</td>\n",
              "      <td>Vegetables</td>\n",
              "      <td>Online</td>\n",
              "      <td>M</td>\n",
              "      <td>11/7/2011</td>\n",
              "      <td>185941302</td>\n",
              "      <td>12/8/2011</td>\n",
              "      <td>3018</td>\n",
              "      <td>154.06</td>\n",
              "      <td>464953.08</td>\n",
              "    </tr>\n",
              "    <tr>\n",
              "      <th>2</th>\n",
              "      <td>Middle East and North Africa</td>\n",
              "      <td>Libya</td>\n",
              "      <td>Baby Food</td>\n",
              "      <td>Offline</td>\n",
              "      <td>C</td>\n",
              "      <td>10/31/2016</td>\n",
              "      <td>246222341</td>\n",
              "      <td>12/9/2016</td>\n",
              "      <td>1517</td>\n",
              "      <td>255.28</td>\n",
              "      <td>387259.76</td>\n",
              "    </tr>\n",
              "    <tr>\n",
              "      <th>3</th>\n",
              "      <td>Asia</td>\n",
              "      <td>Japan</td>\n",
              "      <td>Cereal</td>\n",
              "      <td>Offline</td>\n",
              "      <td>C</td>\n",
              "      <td>4/10/2010</td>\n",
              "      <td>161442649</td>\n",
              "      <td>5/12/2010</td>\n",
              "      <td>3322</td>\n",
              "      <td>205.70</td>\n",
              "      <td>683335.40</td>\n",
              "    </tr>\n",
              "    <tr>\n",
              "      <th>4</th>\n",
              "      <td>Sub-Saharan Africa</td>\n",
              "      <td>Chad</td>\n",
              "      <td>Fruits</td>\n",
              "      <td>Offline</td>\n",
              "      <td>H</td>\n",
              "      <td>8/16/2011</td>\n",
              "      <td>645713555</td>\n",
              "      <td>8/31/2011</td>\n",
              "      <td>9845</td>\n",
              "      <td>9.33</td>\n",
              "      <td>91853.85</td>\n",
              "    </tr>\n",
              "    <tr>\n",
              "      <th>...</th>\n",
              "      <td>...</td>\n",
              "      <td>...</td>\n",
              "      <td>...</td>\n",
              "      <td>...</td>\n",
              "      <td>...</td>\n",
              "      <td>...</td>\n",
              "      <td>...</td>\n",
              "      <td>...</td>\n",
              "      <td>...</td>\n",
              "      <td>...</td>\n",
              "      <td>...</td>\n",
              "    </tr>\n",
              "    <tr>\n",
              "      <th>995</th>\n",
              "      <td>Middle East and North Africa</td>\n",
              "      <td>Azerbaijan</td>\n",
              "      <td>Snacks</td>\n",
              "      <td>Offline</td>\n",
              "      <td>C</td>\n",
              "      <td>4/18/2010</td>\n",
              "      <td>534085166</td>\n",
              "      <td>4/25/2010</td>\n",
              "      <td>6524</td>\n",
              "      <td>152.58</td>\n",
              "      <td>995431.92</td>\n",
              "    </tr>\n",
              "    <tr>\n",
              "      <th>996</th>\n",
              "      <td>Europe</td>\n",
              "      <td>Georgia</td>\n",
              "      <td>Baby Food</td>\n",
              "      <td>Offline</td>\n",
              "      <td>H</td>\n",
              "      <td>8/1/2011</td>\n",
              "      <td>590768182</td>\n",
              "      <td>9/7/2011</td>\n",
              "      <td>288</td>\n",
              "      <td>255.28</td>\n",
              "      <td>73520.64</td>\n",
              "    </tr>\n",
              "    <tr>\n",
              "      <th>997</th>\n",
              "      <td>Middle East and North Africa</td>\n",
              "      <td>United Arab Emirates</td>\n",
              "      <td>Vegetables</td>\n",
              "      <td>Online</td>\n",
              "      <td>C</td>\n",
              "      <td>5/12/2011</td>\n",
              "      <td>524363124</td>\n",
              "      <td>6/28/2011</td>\n",
              "      <td>9556</td>\n",
              "      <td>154.06</td>\n",
              "      <td>1472197.36</td>\n",
              "    </tr>\n",
              "    <tr>\n",
              "      <th>998</th>\n",
              "      <td>Europe</td>\n",
              "      <td>Finland</td>\n",
              "      <td>Household</td>\n",
              "      <td>Offline</td>\n",
              "      <td>L</td>\n",
              "      <td>1/25/2016</td>\n",
              "      <td>289606320</td>\n",
              "      <td>2/14/2016</td>\n",
              "      <td>9801</td>\n",
              "      <td>668.27</td>\n",
              "      <td>6549714.27</td>\n",
              "    </tr>\n",
              "    <tr>\n",
              "      <th>999</th>\n",
              "      <td>Europe</td>\n",
              "      <td>Portugal</td>\n",
              "      <td>Cereal</td>\n",
              "      <td>Offline</td>\n",
              "      <td>C</td>\n",
              "      <td>4/10/2014</td>\n",
              "      <td>811546599</td>\n",
              "      <td>5/8/2014</td>\n",
              "      <td>3528</td>\n",
              "      <td>205.70</td>\n",
              "      <td>725709.60</td>\n",
              "    </tr>\n",
              "  </tbody>\n",
              "</table>\n",
              "<p>1000 rows × 11 columns</p>\n",
              "</div>"
            ],
            "text/plain": [
              "                           Region  ... Total Revenue\n",
              "0    Middle East and North Africa  ...    3692591.20\n",
              "1                   North America  ...     464953.08\n",
              "2    Middle East and North Africa  ...     387259.76\n",
              "3                            Asia  ...     683335.40\n",
              "4              Sub-Saharan Africa  ...      91853.85\n",
              "..                            ...  ...           ...\n",
              "995  Middle East and North Africa  ...     995431.92\n",
              "996                        Europe  ...      73520.64\n",
              "997  Middle East and North Africa  ...    1472197.36\n",
              "998                        Europe  ...    6549714.27\n",
              "999                        Europe  ...     725709.60\n",
              "\n",
              "[1000 rows x 11 columns]"
            ]
          },
          "metadata": {
            "tags": []
          },
          "execution_count": 202
        }
      ]
    }
  ]
}